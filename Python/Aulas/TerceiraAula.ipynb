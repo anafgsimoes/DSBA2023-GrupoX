{
 "cells": [
  {
   "cell_type": "code",
   "execution_count": 1,
   "metadata": {},
   "outputs": [],
   "source": [
    "#Exercício 1 resolvido pelo Professor\n",
    "#Parte 1\n",
    "t1 = eval(input('Qual a nota do teste 1? '))\n",
    "t2 = eval(input('Qual a nota do teste 2? '))\n",
    "l1 = eval(input('Qual a nota do primeiro lab? '))\n",
    "l2 = eval(input('Qual a nota do segundo lab? '))\n",
    "l3 = eval(input('Qual a nota do terceiro lab? '))"
   ]
  },
  {
   "cell_type": "code",
   "execution_count": 3,
   "metadata": {},
   "outputs": [],
   "source": [
    "#Parte 2\n",
    "listLabs = [l1, l2, l3]\n",
    "listLabs.sort()"
   ]
  },
  {
   "cell_type": "code",
   "execution_count": 5,
   "metadata": {},
   "outputs": [],
   "source": [
    "#Parte 3\n",
    "notaPond = t1 * 0.4 + t2 * 0.2 + listLabs[0] * 0.05 + listLabs[1] * 0.15 + listLabs[2] * 0.2"
   ]
  },
  {
   "cell_type": "code",
   "execution_count": 22,
   "metadata": {},
   "outputs": [
    {
     "name": "stdout",
     "output_type": "stream",
     "text": [
      "A nota final é                12.50 valores\n"
     ]
    }
   ],
   "source": [
    "#Parte 4\n",
    "print(f'A nota final é {notaPond:20.2f} valores')"
   ]
  },
  {
   "cell_type": "code",
   "execution_count": 29,
   "metadata": {},
   "outputs": [],
   "source": [
    "#Exercício 2 resolvido pelo Professor usando números\n",
    "#Parte 1\n",
    "n = int(input('Qual o número a testar? '))\n"
   ]
  },
  {
   "cell_type": "code",
   "execution_count": 30,
   "metadata": {},
   "outputs": [
    {
     "name": "stdout",
     "output_type": "stream",
     "text": [
      "A soma dos dígitos do número 123456789 é 45\n"
     ]
    }
   ],
   "source": [
    "#Parte 2 \n",
    "s = 0\n",
    "p = n\n",
    "while n > 0:\n",
    "    s = s + n % 10\n",
    "    n = n // 10\n",
    "print (f'A soma dos dígitos do número {p} é {s}')"
   ]
  },
  {
   "cell_type": "code",
   "execution_count": 31,
   "metadata": {},
   "outputs": [],
   "source": [
    "#Exercício 2 resolvido pelo Professor usando strings \n",
    "#Parte 1\n",
    "n = input ('Qual o número a testar? ')\n"
   ]
  },
  {
   "cell_type": "code",
   "execution_count": 32,
   "metadata": {},
   "outputs": [
    {
     "name": "stdout",
     "output_type": "stream",
     "text": [
      "15\n"
     ]
    }
   ],
   "source": [
    "#Parte 2 convertendo em lista\n",
    "l = list (n)\n",
    "s = 0\n",
    "for x in l:\n",
    "    s += int(x)\n",
    "print (s)"
   ]
  },
  {
   "cell_type": "code",
   "execution_count": 33,
   "metadata": {},
   "outputs": [
    {
     "name": "stdout",
     "output_type": "stream",
     "text": [
      "15\n"
     ]
    }
   ],
   "source": [
    "#Parte 3 não usando lista (Comprehension list)\n",
    "s = 0\n",
    "s = sum (int(x) for x in n)\n",
    "print(s)"
   ]
  },
  {
   "cell_type": "code",
   "execution_count": null,
   "metadata": {},
   "outputs": [],
   "source": [
    "#lista de 1000 inteiros entre 0 e 20\n",
    "from random import randint\n",
    "l = [randint(0,20) for x in range(1000)]\n",
    "print(l)"
   ]
  },
  {
   "cell_type": "code",
   "execution_count": null,
   "metadata": {},
   "outputs": [],
   "source": [
    "#Exercício 3 resolvido pelo Professor \n",
    "#Parte 1\n",
    "n = input('Qual o valor a inverter? ')"
   ]
  },
  {
   "cell_type": "code",
   "execution_count": 35,
   "metadata": {},
   "outputs": [
    {
     "name": "stdout",
     "output_type": "stream",
     "text": [
      "O número 12345 invertido é 54321\n"
     ]
    }
   ],
   "source": [
    "#Parte 2 usando strings\n",
    "s = n\n",
    "i = int(n[::-1])\n",
    "print(f'O número {n} invertido é {i}')\n",
    "#usamos o int para ter como resultado um número"
   ]
  },
  {
   "cell_type": "code",
   "execution_count": 36,
   "metadata": {},
   "outputs": [
    {
     "name": "stdout",
     "output_type": "stream",
     "text": [
      "54321\n"
     ]
    }
   ],
   "source": [
    "#Parte 2 usando números\n",
    "s = 0\n",
    "p = int(n)\n",
    "while p > 0:\n",
    "    s = s*10 + p%10\n",
    "    p = p // 10\n",
    "print (s)"
   ]
  },
  {
   "cell_type": "code",
   "execution_count": 37,
   "metadata": {},
   "outputs": [],
   "source": [
    "#Exercício 4 resolvido pelo Professor\n",
    "#Parte 1\n",
    "a_list = []\n",
    "resp = 'a'\n",
    "while resp != 'q':\n",
    "    resp = input('Dá-me um inteiro positivo: ')\n",
    "    if resp != 'q':\n",
    "        a_list.append(int(resp))\n"
   ]
  },
  {
   "cell_type": "code",
   "execution_count": 42,
   "metadata": {},
   "outputs": [
    {
     "name": "stdout",
     "output_type": "stream",
     "text": [
      "O valor 8 existe na lista 1 vez!!\n"
     ]
    }
   ],
   "source": [
    "#Parte 2\n",
    "n = int(input('Valor a testar: '))\n",
    "c = a_list.count(n)\n",
    "if c == 0:\n",
    "    t = f'O valor {n} não existe na lista'\n",
    "else :\n",
    "    t = f'O valor {n} existe na lista {c} vez'\n",
    "    if c > 1 :\n",
    "        t = t + 'es'\n",
    "print(t + '!!')"
   ]
  },
  {
   "cell_type": "code",
   "execution_count": 41,
   "metadata": {},
   "outputs": [],
   "source": [
    "#Exercício 4 resolvido pelo Professor com while True\n",
    "#Parte 1\n",
    "a_list = []\n",
    "while True:\n",
    "    resp = input('Dê-me um inteiro positivo: ')\n",
    "    if resp in 'qQ':\n",
    "        break\n",
    "    a_list.append(int(resp))\n"
   ]
  },
  {
   "attachments": {},
   "cell_type": "markdown",
   "metadata": {},
   "source": [
    "FUNÇÕES\n",
    "Função factorial 5! = 5*4*3*2*1 = 5*4!"
   ]
  },
  {
   "cell_type": "code",
   "execution_count": 46,
   "metadata": {},
   "outputs": [],
   "source": [
    "#definição da função\n",
    "def fact(n):\n",
    "    k = 1\n",
    "    for i in range(n,1, -1):\n",
    "        k = k * i\n",
    "    return (k)"
   ]
  },
  {
   "cell_type": "code",
   "execution_count": 48,
   "metadata": {},
   "outputs": [],
   "source": [
    "#definição da mesma função de forma recursiva\n",
    "def fact(n):\n",
    "    if n == 1:\n",
    "        return (1)\n",
    "    return (n*fact(n-1))"
   ]
  },
  {
   "cell_type": "code",
   "execution_count": 50,
   "metadata": {},
   "outputs": [
    {
     "name": "stdout",
     "output_type": "stream",
     "text": [
      "120\n"
     ]
    }
   ],
   "source": [
    "#invocação da função\n",
    "print(fact(5))"
   ]
  },
  {
   "attachments": {},
   "cell_type": "markdown",
   "metadata": {},
   "source": [
    "Exercício 2 - a soma de todos os dígitos\n",
    "Resolver através da definição de uma função recursiva"
   ]
  },
  {
   "cell_type": "code",
   "execution_count": 55,
   "metadata": {},
   "outputs": [],
   "source": [
    "def sum_digits(n):\n",
    "    if n == 0:\n",
    "        return 0\n",
    "    return  n % 10 + sum_digits(n // 10)\n"
   ]
  },
  {
   "cell_type": "code",
   "execution_count": 58,
   "metadata": {},
   "outputs": [
    {
     "name": "stdout",
     "output_type": "stream",
     "text": [
      "O resultado da soma dos dígitos de 12345 é 15.\n"
     ]
    }
   ],
   "source": [
    "x = int(input('Qual o valor?'))\n",
    "print(f'O resultado da soma dos dígitos de {x} é {sum_digits(x)}.')"
   ]
  }
 ],
 "metadata": {
  "kernelspec": {
   "display_name": "Python 3",
   "language": "python",
   "name": "python3"
  },
  "language_info": {
   "codemirror_mode": {
    "name": "ipython",
    "version": 3
   },
   "file_extension": ".py",
   "mimetype": "text/x-python",
   "name": "python",
   "nbconvert_exporter": "python",
   "pygments_lexer": "ipython3",
   "version": "3.11.1 (tags/v3.11.1:a7a450f, Dec  6 2022, 19:58:39) [MSC v.1934 64 bit (AMD64)]"
  },
  "orig_nbformat": 4,
  "vscode": {
   "interpreter": {
    "hash": "4d8a8b4003b9d02a73c7cf1ea0f43576b4f90950bb6fcb7846c526ae5424faf4"
   }
  }
 },
 "nbformat": 4,
 "nbformat_minor": 2
}
