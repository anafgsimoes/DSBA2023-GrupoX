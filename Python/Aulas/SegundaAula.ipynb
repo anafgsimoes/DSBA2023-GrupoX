{
 "cells": [
  {
   "cell_type": "code",
   "execution_count": 8,
   "metadata": {},
   "outputs": [
    {
     "data": {
      "text/plain": [
       "['a', 'b', 'c', [1, 2, 3], 'd']"
      ]
     },
     "execution_count": 8,
     "metadata": {},
     "output_type": "execute_result"
    }
   ],
   "source": [
    "l = [1,2,3]\n",
    "l = ['a','b','c',l,'d']\n",
    "l"
   ]
  },
  {
   "cell_type": "code",
   "execution_count": 9,
   "metadata": {},
   "outputs": [
    {
     "name": "stdout",
     "output_type": "stream",
     "text": [
      "2\n"
     ]
    }
   ],
   "source": [
    "l1 = [1,2,'qwe',23.4,'324']\n",
    "print(l1[1])"
   ]
  },
  {
   "cell_type": "code",
   "execution_count": 27,
   "metadata": {},
   "outputs": [],
   "source": [
    "l2 = [10, 14, 21, 42, 5]"
   ]
  },
  {
   "cell_type": "code",
   "execution_count": 13,
   "metadata": {},
   "outputs": [
    {
     "name": "stdout",
     "output_type": "stream",
     "text": [
      "6\n"
     ]
    }
   ],
   "source": [
    "print(len(l2))"
   ]
  },
  {
   "cell_type": "code",
   "execution_count": 17,
   "metadata": {},
   "outputs": [
    {
     "name": "stdout",
     "output_type": "stream",
     "text": [
      "[10, 14, 21, 42, 5, 14]\n"
     ]
    }
   ],
   "source": [
    "l2.append(14)\n",
    "print(l2)"
   ]
  },
  {
   "cell_type": "code",
   "execution_count": 15,
   "metadata": {},
   "outputs": [
    {
     "name": "stdout",
     "output_type": "stream",
     "text": [
      "2\n",
      "1\n"
     ]
    }
   ],
   "source": [
    "print(l2.count(14))\n",
    "print(l2.index(14))"
   ]
  },
  {
   "cell_type": "code",
   "execution_count": 26,
   "metadata": {},
   "outputs": [
    {
     "name": "stdout",
     "output_type": "stream",
     "text": [
      "[]\n"
     ]
    },
    {
     "ename": "IndexError",
     "evalue": "pop from empty list",
     "output_type": "error",
     "traceback": [
      "\u001b[1;31m---------------------------------------------------------------------------\u001b[0m",
      "\u001b[1;31mIndexError\u001b[0m                                Traceback (most recent call last)",
      "Cell \u001b[1;32mIn[26], line 2\u001b[0m\n\u001b[0;32m      1\u001b[0m \u001b[39mprint\u001b[39m(l2)\n\u001b[1;32m----> 2\u001b[0m x \u001b[39m=\u001b[39m l2\u001b[39m.\u001b[39;49mpop()\n\u001b[0;32m      3\u001b[0m \u001b[39mprint\u001b[39m(x)\n\u001b[0;32m      4\u001b[0m \u001b[39mprint\u001b[39m(l2)\n",
      "\u001b[1;31mIndexError\u001b[0m: pop from empty list"
     ]
    }
   ],
   "source": [
    "print(l2)\n",
    "x = l2.pop()\n",
    "print(x)\n",
    "print(l2)"
   ]
  },
  {
   "cell_type": "code",
   "execution_count": 22,
   "metadata": {},
   "outputs": [
    {
     "name": "stdout",
     "output_type": "stream",
     "text": [
      "[10, 14, 21]\n"
     ]
    },
    {
     "ename": "IndexError",
     "evalue": "pop index out of range",
     "output_type": "error",
     "traceback": [
      "\u001b[1;31m---------------------------------------------------------------------------\u001b[0m",
      "\u001b[1;31mIndexError\u001b[0m                                Traceback (most recent call last)",
      "Cell \u001b[1;32mIn[22], line 2\u001b[0m\n\u001b[0;32m      1\u001b[0m \u001b[39mprint\u001b[39m(l2)\n\u001b[1;32m----> 2\u001b[0m x \u001b[39m=\u001b[39m l2\u001b[39m.\u001b[39;49mpop(\u001b[39m3\u001b[39;49m)\n\u001b[0;32m      3\u001b[0m \u001b[39mprint\u001b[39m(x)\n\u001b[0;32m      4\u001b[0m \u001b[39mprint\u001b[39m(l2)\n",
      "\u001b[1;31mIndexError\u001b[0m: pop index out of range"
     ]
    }
   ],
   "source": [
    "print(l2)\n",
    "x = l2.pop(3)\n",
    "print(x)\n",
    "print(l2)"
   ]
  },
  {
   "cell_type": "code",
   "execution_count": 29,
   "metadata": {},
   "outputs": [
    {
     "data": {
      "text/plain": [
       "[1, 2, 3]"
      ]
     },
     "execution_count": 29,
     "metadata": {},
     "output_type": "execute_result"
    }
   ],
   "source": [
    "t = (1,2,3)\n",
    "t = list(t)\n",
    "t"
   ]
  },
  {
   "cell_type": "code",
   "execution_count": 30,
   "metadata": {},
   "outputs": [
    {
     "name": "stdout",
     "output_type": "stream",
     "text": [
      "[1, 3, 2, 3, 4, 5, 6, 7, 5]\n",
      "{1, 2, 3, 4, 5, 6, 7}\n"
     ]
    }
   ],
   "source": [
    "l = [1,3,2,3,4,5,6,7,5]\n",
    "print(l)\n",
    "s = set(l)\n",
    "print(s)"
   ]
  },
  {
   "cell_type": "code",
   "execution_count": 31,
   "metadata": {},
   "outputs": [
    {
     "name": "stdout",
     "output_type": "stream",
     "text": [
      "{0, 1, 2, 3, 4, 5, 6, 7}\n"
     ]
    }
   ],
   "source": [
    "s.add(0)\n",
    "print(s)"
   ]
  },
  {
   "cell_type": "code",
   "execution_count": 40,
   "metadata": {},
   "outputs": [
    {
     "name": "stdout",
     "output_type": "stream",
     "text": [
      "Begin the program...\n",
      "The number 30 can be divided by 2\n",
      "The number 30 can be divided by 3\n",
      "The number 30 can be divided by 5\n",
      "End the program.\n"
     ]
    }
   ],
   "source": [
    "print('Begin the program...')\n",
    "n=30\n",
    "if n%2 == 0:\n",
    "    print(f'The number {n} can be divided by 2')\n",
    "if n%3 == 0:\n",
    "    print(f'The number {n} can be divided by 3')\n",
    "if n%5 == 0:\n",
    "    print(f'The number {n} can be divided by 5')\n",
    "if n%2!=0 and n%3!=0 and n%5!=0:\n",
    "    print(f'The number {n} cannot be divided by either 2, 3 or 5')\n",
    "print(f'End the program.')"
   ]
  },
  {
   "cell_type": "code",
   "execution_count": 41,
   "metadata": {},
   "outputs": [
    {
     "name": "stdout",
     "output_type": "stream",
     "text": [
      "a\n",
      "b\n",
      "c\n",
      "d\n",
      "e\n"
     ]
    }
   ],
   "source": [
    "l4 = ['a', 'b','c', 'd', 'e']\n",
    "for i in range (5):\n",
    "    print(l4[i])"
   ]
  },
  {
   "cell_type": "code",
   "execution_count": 43,
   "metadata": {},
   "outputs": [
    {
     "name": "stdout",
     "output_type": "stream",
     "text": [
      "a\n",
      "b\n",
      "c\n",
      "d\n",
      "e\n"
     ]
    }
   ],
   "source": [
    "t4 = ('a', 'b','c', 'd', 'e')\n",
    "for x in t4:\n",
    "    print(x)"
   ]
  },
  {
   "cell_type": "code",
   "execution_count": 44,
   "metadata": {},
   "outputs": [
    {
     "name": "stdout",
     "output_type": "stream",
     "text": [
      "a\n",
      "b\n",
      "d\n",
      "e\n",
      "c\n"
     ]
    }
   ],
   "source": [
    "s4 = {'a', 'b','c', 'd', 'e'}\n",
    "for y in s4:\n",
    "    print(y)"
   ]
  },
  {
   "cell_type": "code",
   "execution_count": 45,
   "metadata": {},
   "outputs": [
    {
     "name": "stdout",
     "output_type": "stream",
     "text": [
      "a\n",
      "b\n",
      "c\n",
      "d\n",
      "e\n"
     ]
    }
   ],
   "source": [
    "l4 = ['a', 'b','c', 'd', 'e']\n",
    "\n",
    "i = 0\n",
    "while i < 5:\n",
    "    print(l4[i])\n",
    "    i = i + 1"
   ]
  },
  {
   "attachments": {},
   "cell_type": "markdown",
   "metadata": {},
   "source": [
    "A aula ficou por aqui;\n",
    "Fizemos o exercício 1;\n",
    "Agora volto ao exercício dos ifs:"
   ]
  },
  {
   "cell_type": "code",
   "execution_count": 39,
   "metadata": {},
   "outputs": [
    {
     "name": "stdout",
     "output_type": "stream",
     "text": [
      "Begin the program...\n",
      "30\n",
      "The number 30 can be divided by 2 and 3 and 5.\n",
      "End the program.\n"
     ]
    }
   ],
   "source": [
    "print('Begin the program...')\n",
    "n=eval(input('Give me a number: '))\n",
    "print(n)\n",
    "divided=''\n",
    "if n%2 == 0:\n",
    "    divided = 'The number ' + str(n) + ' can be divided by 2'\n",
    "if n%3 == 0:\n",
    "    if len(divided) == 0:\n",
    "        divided = 'The number ' + str(n) + ' can be divided by 3'\n",
    "    else:\n",
    "        divided += ' and 3'\n",
    "if n%5 == 0:\n",
    "    if len(divided) == 0:\n",
    "        divided = 'The number ' + str(n) + ' can be divided by 5'\n",
    "    else:\n",
    "        divided += ' and 5'\n",
    "if len(divided) == 0:\n",
    "    divided = 'The number ' + str(n) + ' cannot be divided by either 2, 3 or 5'\n",
    "print(divided + '.')\n",
    "print(f'End the program.')"
   ]
  }
 ],
 "metadata": {
  "kernelspec": {
   "display_name": "Python 3",
   "language": "python",
   "name": "python3"
  },
  "language_info": {
   "codemirror_mode": {
    "name": "ipython",
    "version": 3
   },
   "file_extension": ".py",
   "mimetype": "text/x-python",
   "name": "python",
   "nbconvert_exporter": "python",
   "pygments_lexer": "ipython3",
   "version": "3.11.1"
  },
  "orig_nbformat": 4,
  "vscode": {
   "interpreter": {
    "hash": "4d8a8b4003b9d02a73c7cf1ea0f43576b4f90950bb6fcb7846c526ae5424faf4"
   }
  }
 },
 "nbformat": 4,
 "nbformat_minor": 2
}
