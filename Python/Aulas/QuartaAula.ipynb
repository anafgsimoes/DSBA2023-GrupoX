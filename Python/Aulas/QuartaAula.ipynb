{
 "cells": [
  {
   "attachments": {},
   "cell_type": "markdown",
   "metadata": {},
   "source": [
    "Exercise 5\n",
    "Create a Python function that will receive 2 input parameters: a value and a List. The function \n",
    "should return another list containing the positions the value appears in the list or the text “NA” if \n",
    "the value does not appear in the given list."
   ]
  },
  {
   "cell_type": "code",
   "execution_count": null,
   "metadata": {},
   "outputs": [],
   "source": [
    "#Part 1\n",
    "def list_positions (v, a_list):\n",
    "    resp = []\n",
    "    for i in range(len(a_list)):\n",
    "        if v == a_list[i]:\n",
    "            resp.append(i)\n",
    "    if len(resp) == 0:\n",
    "        return ('NA')\n",
    "    return resp\n",
    "\n"
   ]
  },
  {
   "cell_type": "code",
   "execution_count": null,
   "metadata": {},
   "outputs": [],
   "source": [
    "#Part 2\n",
    "\n",
    "list_positions({1, 2}, ({1, 2}, {2, 3}, {1, 2}, {4, 2}, {2, 1}))"
   ]
  },
  {
   "attachments": {},
   "cell_type": "markdown",
   "metadata": {},
   "source": [
    "Exercise 6 \n",
    "Create a function called “HasRepeatedItems(aList)” that receives a list as a parameter and \n",
    "returns True or False weather the list has repeated values or not.\n",
    "Hint: There is a Python function that converts a list into a set: mySet = set(myList)"
   ]
  },
  {
   "cell_type": "code",
   "execution_count": null,
   "metadata": {},
   "outputs": [],
   "source": [
    "def HasRepeatedItems(aList):\n",
    "\n",
    "    mySet = set(aList)\n",
    "    if len(mySet) == len(aList):\n",
    "        return False\n",
    "    else:\n",
    "        return True\n"
   ]
  },
  {
   "cell_type": "code",
   "execution_count": null,
   "metadata": {},
   "outputs": [],
   "source": [
    "def HasRepeatedItems(aList):\n",
    "    return len(aList) != len(set(aList))"
   ]
  },
  {
   "cell_type": "code",
   "execution_count": null,
   "metadata": {},
   "outputs": [],
   "source": [
    "HasRepeatedItems([1,2,3,4,5,1])"
   ]
  },
  {
   "attachments": {},
   "cell_type": "markdown",
   "metadata": {},
   "source": [
    "Exercise 7\n",
    "Create a Python function called “CountElements( aList, element )”. The function must, without \n",
    "using the Python native function “Count()”, return the number of times “element” occurs in the \n",
    "list. Some Examples:\n",
    "Calling:\n",
    "CountElements( [\"a\", \"b\", \"a\", \"c\", \"a\", \"b\", \"c\"], \"a\" )\n",
    "Should return the value: 3\n",
    "Calling:\n",
    "CountElements( [\"a\", \"b\", \"a\", \"c\", \"a\", \"b\", \"c\"], \"c\" )\n",
    "Should return the value: 2"
   ]
  },
  {
   "cell_type": "code",
   "execution_count": null,
   "metadata": {},
   "outputs": [],
   "source": [
    "def CountElements (aList, element):\n",
    "    count = 0\n",
    "    for x in aList:\n",
    "        if x == element:\n",
    "            count += 1\n",
    "    return count"
   ]
  },
  {
   "cell_type": "code",
   "execution_count": null,
   "metadata": {},
   "outputs": [],
   "source": [
    "CountElements( [\"a\", \"b\", \"a\", \"c\", \"a\", \"b\", \"c\"], \"a\" )"
   ]
  },
  {
   "cell_type": "code",
   "execution_count": null,
   "metadata": {},
   "outputs": [],
   "source": [
    "CountElements( [\"a\", \"b\", \"a\", \"c\", \"a\", \"b\", \"c\"], \"c\" )"
   ]
  },
  {
   "attachments": {},
   "cell_type": "markdown",
   "metadata": {},
   "source": [
    "Exercise 8\n",
    "Create a Python function called “GenerateFibonacci( numElements )”. This function will take a \n",
    "number as input parameter and return the list of the first numbers of the famous Fibonacci \n",
    "sequence. As a reminder, the Fibonacci sequence is a list of numbers in which every element \n",
    "corresponds to the sum of the two previous ones: 1, 1, 2, 3, 5, 8, 13, 21, 34, 55, … etc.\n",
    "Thus, when calling the function:\n",
    "GenerateFibonacci( 12 ) \n",
    "Will return the following list:\n",
    "[1, 1, 2, 3, 5, 8, 13, 21, 34, 55, 89, 144]\n",
    "Which corresponds to the first 12 elements of the Fibonacci sequence. \n",
    "Calling the function:\n",
    "GenerateFibonacci( 20 ) \n",
    "Will return the following list:\n",
    "[ 1, 1, 2, 3, 5, 8, 13, 21, 34, 55, 89, 144, 233, 377, 610, 987, \n",
    "1597, 2584, 4181, 6765]\n",
    "Which corresponds to the first 20 elements of the Fibonacci sequence."
   ]
  },
  {
   "cell_type": "code",
   "execution_count": 1,
   "metadata": {},
   "outputs": [],
   "source": [
    "def GenerateFibonacci( numElements ):\n",
    "    if numElements == 0:\n",
    "        return []\n",
    "    if numElements == 1:\n",
    "        return [1]\n",
    "    l = [1,1]\n",
    "    for i in range (numElements-2):\n",
    "        l.append(l[i] + l[i+1])\n",
    "    return l\n"
   ]
  },
  {
   "cell_type": "code",
   "execution_count": 2,
   "metadata": {},
   "outputs": [
    {
     "data": {
      "text/plain": [
       "[1, 1]"
      ]
     },
     "execution_count": 2,
     "metadata": {},
     "output_type": "execute_result"
    }
   ],
   "source": [
    "GenerateFibonacci( 2 ) "
   ]
  },
  {
   "cell_type": "code",
   "execution_count": null,
   "metadata": {},
   "outputs": [],
   "source": [
    "GenerateFibonacci( 20 ) "
   ]
  },
  {
   "cell_type": "code",
   "execution_count": null,
   "metadata": {},
   "outputs": [],
   "source": [
    "print (randint(0,20))"
   ]
  },
  {
   "cell_type": "code",
   "execution_count": null,
   "metadata": {},
   "outputs": [],
   "source": [
    "import random\n",
    "print(random.randint(0,20))"
   ]
  },
  {
   "cell_type": "code",
   "execution_count": null,
   "metadata": {},
   "outputs": [],
   "source": [
    "from random import randint, choice"
   ]
  },
  {
   "cell_type": "code",
   "execution_count": null,
   "metadata": {},
   "outputs": [],
   "source": [
    "from random import *"
   ]
  },
  {
   "cell_type": "code",
   "execution_count": null,
   "metadata": {},
   "outputs": [],
   "source": [
    "print(randint(0,20))\n",
    "print(choice(1))"
   ]
  }
 ],
 "metadata": {
  "kernelspec": {
   "display_name": "Python 3",
   "language": "python",
   "name": "python3"
  },
  "language_info": {
   "codemirror_mode": {
    "name": "ipython",
    "version": 3
   },
   "file_extension": ".py",
   "mimetype": "text/x-python",
   "name": "python",
   "nbconvert_exporter": "python",
   "pygments_lexer": "ipython3",
   "version": "3.10.9 (tags/v3.10.9:1dd9be6, Dec  6 2022, 20:01:21) [MSC v.1934 64 bit (AMD64)]"
  },
  "orig_nbformat": 4,
  "vscode": {
   "interpreter": {
    "hash": "5a54614e762e5e8920865acec91322f76af9ca40d9a85396a0a2330b042b2883"
   }
  }
 },
 "nbformat": 4,
 "nbformat_minor": 2
}
