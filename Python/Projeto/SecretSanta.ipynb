{
 "cells": [
  {
   "cell_type": "code",
   "execution_count": 49,
   "metadata": {},
   "outputs": [],
   "source": [
    "#Import Libraries\n",
    "import pandas as pd\n",
    "import openpyxl\n",
    "from random import randint, choice, shuffle"
   ]
  },
  {
   "cell_type": "code",
   "execution_count": 50,
   "metadata": {},
   "outputs": [],
   "source": [
    "#Name of the Excel file and sheets to be used\n",
    "file_name = r'SecretSantaDataSet.xlsx'\n",
    "people_sheet = r'Pessoas'\n",
    "incompatibles_sheet = r'Incompatibilidades'"
   ]
  },
  {
   "cell_type": "code",
   "execution_count": 51,
   "metadata": {},
   "outputs": [],
   "source": [
    "#Import participants from excel and put them on a list\n",
    "people = pd.read_excel(file_name, engine='openpyxl', sheet_name=people_sheet)\n",
    "people = list(people.loc[:, 'Nome da Pessoa'])"
   ]
  },
  {
   "cell_type": "code",
   "execution_count": 52,
   "metadata": {},
   "outputs": [],
   "source": [
    "#Import incompatibilities between participants and put them on a list of sets\n",
    "incompatibilities = pd.read_excel(file_name, engine='openpyxl', sheet_name=incompatibles_sheet)\n",
    "incompats = []\n",
    "for index, row in incompatibilities.iterrows():\n",
    "    a_set = {row['Nome da Pessoa 1'], row['Nome da Pessoa 2']}\n",
    "    incompats.append(a_set)"
   ]
  },
  {
   "cell_type": "code",
   "execution_count": 53,
   "metadata": {},
   "outputs": [
    {
     "data": {
      "text/plain": [
       "\" wb = openpyxl.load_workbook(file_name)\\nws_people = wb[people_sheet]\\nws_incompats = wb[incompatibles_sheet]\\n\\ndata_people = ws_people.values\\ncolumns_people = next(data_people)\\ndf_people = pd.DataFrame(data_people, columns=columns_people)\\npeople = list(df_people.loc[:, 'Nome da Pessoa'])\\n\\ndata_incompats = ws_incompats.values\\ncolumns_incompats = next(data_incompats)\\ndf_incompats = pd.DataFrame(data_incompats, columns=columns_incompats)\\nincompats = []\\nfor index, row in df_incompats.iterrows():\\n    a_set = {row['Nome da Pessoa 2'], row['Nome da Pessoa 2']}\\n    incompats.append(a_set) \""
      ]
     },
     "execution_count": 53,
     "metadata": {},
     "output_type": "execute_result"
    }
   ],
   "source": [
    "#Alternativa usando openpyxl para abrir e ler o workbook\n",
    "\"\"\" wb = openpyxl.load_workbook(file_name)\n",
    "ws_people = wb[people_sheet]\n",
    "ws_incompats = wb[incompatibles_sheet]\n",
    "\n",
    "data_people = ws_people.values\n",
    "columns_people = next(data_people)\n",
    "df_people = pd.DataFrame(data_people, columns=columns_people)\n",
    "people = list(df_people.loc[:, 'Nome da Pessoa'])\n",
    "\n",
    "data_incompats = ws_incompats.values\n",
    "columns_incompats = next(data_incompats)\n",
    "df_incompats = pd.DataFrame(data_incompats, columns=columns_incompats)\n",
    "incompats = []\n",
    "for index, row in df_incompats.iterrows():\n",
    "    a_set = {row['Nome da Pessoa 2'], row['Nome da Pessoa 2']}\n",
    "    incompats.append(a_set) \"\"\""
   ]
  },
  {
   "cell_type": "code",
   "execution_count": 54,
   "metadata": {},
   "outputs": [],
   "source": [
    "#FUNCTION FIND_INCOMPATIBILITIES\n",
    "#Returns a set of people that a \"name_set\" cannot match with, based on the incompats list\n",
    "#Returns  subset of the incompats list for a person\n",
    "def find_incompatibilities(name_set, exclusion_list):\n",
    "    incompatibles = set()\n",
    "    for i in range(len(exclusion_list)):\n",
    "        if name_set.issubset(exclusion_list[i]):\n",
    "            incompatibles = incompatibles.union(exclusion_list[i])\n",
    "    return incompatibles"
   ]
  },
  {
   "cell_type": "code",
   "execution_count": 55,
   "metadata": {},
   "outputs": [],
   "source": [
    "#FUNCTION FIND_POSSIBILITIES\n",
    "#Returns the list of possible matches for a person, excluding themselves\n",
    "#Returns the list of the difference between all participants and the incompatibilities for a person\n",
    "def find_possibilities(name_set, receivers_set, exclusion_list):\n",
    "    possibilities_set = set()\n",
    "    possibilities_set = receivers_set.difference(name_set)\n",
    "    possibilities_set = possibilities_set.difference(find_incompatibilities(name_set, exclusion_list))\n",
    "    return list(possibilities_set)"
   ]
  },
  {
   "cell_type": "code",
   "execution_count": 63,
   "metadata": {},
   "outputs": [],
   "source": [
    "#Sorting hat\n",
    "max_tries = 2\n",
    "tries = 0\n",
    "while tries < max_tries:\n",
    "    shuffle(people)\n",
    "    givers = people.copy()\n",
    "    receivers = people.copy()\n",
    "    matches = []\n",
    "    for p in people :\n",
    "        #Gets a list of all possible receivers for a participant p\n",
    "        all_possible_rec = find_possibilities({givers[0]}, set(receivers), incompats)\n",
    "        if len(all_possible_rec) == 0 :\n",
    "            break\n",
    "        #Selects a match from all possible receivers\n",
    "        match = all_possible_rec[randint(0, len(all_possible_rec)-1)]\n",
    "        matches.append([givers[0], match])\n",
    "        givers.pop(0)\n",
    "        receivers.pop(receivers.index(match))\n",
    "    tries += 1\n",
    "    if len(matches) == len(people):\n",
    "        break"
   ]
  },
  {
   "cell_type": "code",
   "execution_count": null,
   "metadata": {},
   "outputs": [],
   "source": [
    "print(f'{tries} tries; {len(matches)} out of {len(people)} matches: {matches}')\n",
    "\n",
    "if tries == max_tries and len(matches) != len(people):\n",
    "    print(f'Maybe try again next year with more participants and less restrictions.')"
   ]
  },
  {
   "cell_type": "code",
   "execution_count": 71,
   "metadata": {},
   "outputs": [
    {
     "data": {
      "text/plain": [
       "Gift Giver       RITA ISABEL LARANJEIRA COSTA RIBEIRO\n",
       "Gift Receiver           ANA RITA LOPES BORGES MARTINS\n",
       "Name: 3, dtype: object"
      ]
     },
     "execution_count": 71,
     "metadata": {},
     "output_type": "execute_result"
    }
   ],
   "source": [
    "df_matches = pd.DataFrame(matches, columns=['Gift Giver', 'Gift Receiver'])\n",
    "df_matches.loc[3, :]"
   ]
  },
  {
   "cell_type": "code",
   "execution_count": 87,
   "metadata": {},
   "outputs": [],
   "source": [
    "wb = openpyxl.load_workbook(file_name)\n",
    "ws_new = wb.create_sheet(\"Resultados\")\n",
    "ws_new.append(list(df_matches.columns))\n",
    "for i in range(len(df_matches)):\n",
    "    ws_new.append(list(df_matches.loc[i, :]))\n",
    "ws_new.column_dimensions['A'].width = 55\n",
    "ws_new.column_dimensions['B'].width = 55\n",
    "wb.save(file_name)\n",
    "#wb.save(file_name)\n",
    "#wb.close()\n"
   ]
  },
  {
   "cell_type": "code",
   "execution_count": 89,
   "metadata": {},
   "outputs": [],
   "source": [
    "wb.remove(ws_new)"
   ]
  },
  {
   "cell_type": "code",
   "execution_count": null,
   "metadata": {},
   "outputs": [],
   "source": [
    "wb.save(file_name)\n",
    "wb.close()"
   ]
  }
 ],
 "metadata": {
  "kernelspec": {
   "display_name": "Python 3",
   "language": "python",
   "name": "python3"
  },
  "language_info": {
   "codemirror_mode": {
    "name": "ipython",
    "version": 3
   },
   "file_extension": ".py",
   "mimetype": "text/x-python",
   "name": "python",
   "nbconvert_exporter": "python",
   "pygments_lexer": "ipython3",
   "version": "3.10.10"
  },
  "orig_nbformat": 4,
  "vscode": {
   "interpreter": {
    "hash": "5a54614e762e5e8920865acec91322f76af9ca40d9a85396a0a2330b042b2883"
   }
  }
 },
 "nbformat": 4,
 "nbformat_minor": 2
}
