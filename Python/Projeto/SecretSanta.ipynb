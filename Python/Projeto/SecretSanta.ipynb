{
 "cells": [
  {
   "cell_type": "code",
   "execution_count": null,
   "metadata": {},
   "outputs": [],
   "source": [
    "#Import Libraries\n",
    "import pandas as pd\n",
    "import openpyxl\n",
    "from random import randint, shuffle"
   ]
  },
  {
   "cell_type": "code",
   "execution_count": null,
   "metadata": {},
   "outputs": [],
   "source": [
    "#Name of the Excel file and sheets to be used\n",
    "file_name = r'SecretSantaDataSet.xlsx'\n",
    "people_sheet = r'Pessoas'\n",
    "incompatibles_sheet = r'Incompatibilidades'"
   ]
  },
  {
   "cell_type": "code",
   "execution_count": null,
   "metadata": {},
   "outputs": [],
   "source": [
    "#Import participants from excel and put them on a list\n",
    "people = pd.read_excel(file_name, engine='openpyxl', sheet_name=people_sheet)\n",
    "people = people.iloc[:, 0]"
   ]
  },
  {
   "cell_type": "code",
   "execution_count": null,
   "metadata": {},
   "outputs": [],
   "source": [
    "#Import incompatibilities between participants and put them on a list of sets\n",
    "incompatibilities = pd.read_excel(file_name, engine='openpyxl', sheet_name=incompatibles_sheet)\n",
    "incompats = []\n",
    "for index, row in incompatibilities.iterrows():\n",
    "    a_set = {row[0], row[1]}\n",
    "    incompats.append(a_set)"
   ]
  },
  {
   "cell_type": "code",
   "execution_count": null,
   "metadata": {},
   "outputs": [],
   "source": [
    "#FUNCTION FIND_INCOMPATIBILITIES\n",
    "#Returns a set of people that a \"name_set\" cannot match with, based on the incompats list\n",
    "#Returns  subset of the incompats list for a person\n",
    "def find_incompatibilities(name_set, exclusion_list): \n",
    "    incompatibles = set()\n",
    "    for i in range(len(exclusion_list)):\n",
    "        if name_set.issubset(exclusion_list[i]):\n",
    "            incompatibles = incompatibles.union(exclusion_list[i])\n",
    "    return incompatibles"
   ]
  },
  {
   "cell_type": "code",
   "execution_count": null,
   "metadata": {},
   "outputs": [],
   "source": [
    "#FUNCTION FIND_POSSIBILITIES\n",
    "#Returns the list of possible matches for a person, excluding themselves\n",
    "#Returns the list of the difference between all participants and the incompatibilities for a person\n",
    "def find_possibilities(name_set, receivers_set, exclusion_list): \n",
    "    possibilities_set = set()\n",
    "    possibilities_set = receivers_set.difference(name_set)\n",
    "    possibilities_set = possibilities_set.difference(find_incompatibilities(name_set, exclusion_list))\n",
    "    return list(possibilities_set)"
   ]
  },
  {
   "cell_type": "code",
   "execution_count": null,
   "metadata": {},
   "outputs": [],
   "source": [
    "#Program\n",
    "#Initial validations\n",
    "end_program = False\n",
    "max_tries = 1000\n",
    "tries = 0\n",
    "if len(people) <2:\n",
    "    print(\"Secret Santa needs at least 2 participants.\")\n",
    "    end_program = True\n",
    "\n",
    "elif people.isnull().any:\n",
    "    print(\"The participants list has null values.\")\n",
    "    end_Program = True\n",
    "\n",
    "elif len(people) != len(set(people)):\n",
    "    duplicates = [x for x in people if people.count(x)>1]\n",
    "    print(f'There can\\'t be participants with exactly the same name.\\nThese are repeated: {set(duplicates)}')\n",
    "    end_Program = True\n",
    "\n",
    "#SortingHat\n",
    "else:\n",
    "    people = list(people)\n",
    "    while tries < max_tries:\n",
    "        shuffle(people)\n",
    "        givers = people.copy()\n",
    "        receivers = people.copy()\n",
    "        matches = []\n",
    "        for p in people :\n",
    "            #Gets a list of all possible receivers for a participant p\n",
    "            all_possible_rec = find_possibilities({givers[0]}, set(receivers), incompats)\n",
    "            if len(all_possible_rec) == 0 :\n",
    "                break\n",
    "            #Selects a random match from all possible receivers\n",
    "            match = all_possible_rec[randint(0, len(all_possible_rec)-1)]\n",
    "            matches.append([givers[0], match]) \n",
    "            givers.pop(0)\n",
    "            receivers.pop(receivers.index(match))\n",
    "        tries += 1\n",
    "        if len(matches) == len(people):\n",
    "            break"
   ]
  },
  {
   "cell_type": "code",
   "execution_count": null,
   "metadata": {},
   "outputs": [],
   "source": [
    "#Converts results list into data frame and prints results\n",
    "df_matches = []\n",
    "if not end_program and tries != 0:    \n",
    "        print(f'{tries} tries; {len(matches)} out of {len(people)} matches')\n",
    "\n",
    "        if tries == max_tries and len(matches) != len(people):\n",
    "            print(f'Maybe try again next year with more participants and less restrictions.')\n",
    "            end_Program = True\n",
    "\n",
    "        else:\n",
    "            df_matches = pd.DataFrame(matches, columns=['Gift Giver', 'Gift Receiver'])\n",
    "            print(df_matches)"
   ]
  },
  {
   "cell_type": "code",
   "execution_count": null,
   "metadata": {},
   "outputs": [],
   "source": [
    "#Writes results to a new sheet on Excel File\n",
    "wb = openpyxl.load_workbook(file_name)\n",
    "if 'Resultados' in wb.sheetnames:\n",
    "    wb.remove(wb['Resultados'])\n",
    "\n",
    "if not end_program and tries != 0 and len(df_matches) != 0:\n",
    "\n",
    "        ws_new = wb.create_sheet('Resultados')\n",
    "        ws_new.append(list(df_matches.columns))\n",
    "        for i in range(len(df_matches)):\n",
    "            ws_new.append(list(df_matches.loc[i, :]))\n",
    "\n",
    "        ws_new.column_dimensions['A'].width = 55\n",
    "        ws_new.column_dimensions['B'].width = 55\n",
    "\n",
    "wb.save(file_name)\n",
    "wb.close()\n"
   ]
  }
 ],
 "metadata": {
  "kernelspec": {
   "display_name": "Python 3",
   "language": "python",
   "name": "python3"
  },
  "language_info": {
   "codemirror_mode": {
    "name": "ipython",
    "version": 3
   },
   "file_extension": ".py",
   "mimetype": "text/x-python",
   "name": "python",
   "nbconvert_exporter": "python",
   "pygments_lexer": "ipython3",
   "version": "3.10.10"
  },
  "orig_nbformat": 4,
  "vscode": {
   "interpreter": {
    "hash": "5a54614e762e5e8920865acec91322f76af9ca40d9a85396a0a2330b042b2883"
   }
  }
 },
 "nbformat": 4,
 "nbformat_minor": 2
}
