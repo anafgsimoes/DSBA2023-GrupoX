{
 "cells": [
  {
   "cell_type": "code",
   "execution_count": 15,
   "metadata": {},
   "outputs": [],
   "source": [
    "#Import Libraries\n",
    "import pandas as pd\n",
    "import numpy as np\n",
    "from random import randint, choice, shuffle"
   ]
  },
  {
   "cell_type": "code",
   "execution_count": 16,
   "metadata": {},
   "outputs": [],
   "source": [
    "#Import participants from excel and put them on a list\n",
    "people = pd.read_excel(\"Project-SecretSanta/SecretSantaDataSet.xlsx\", engine='openpyxl', sheet_name='Pessoas')\n",
    "people = list(people.loc[:, 'Nome da Pessoa'])\n"
   ]
  },
  {
   "cell_type": "code",
   "execution_count": 27,
   "metadata": {},
   "outputs": [],
   "source": [
    "#Import incompatibilities between participants and put them on a list of tuples or sets\n",
    "incompatibilities = pd.read_excel(\"Project-SecretSanta/SecretSantaDataSet.xlsx\", engine='openpyxl', sheet_name='Incompatibilidades')\n",
    "incompats = []\n",
    "for index, row in incompatibilities.iterrows():\n",
    "    a_tuple = (row['Nome da Pessoa 1'], row['Nome da Pessoa 2'])\n",
    "    #inv_tuple = (row['Nome da Pessoa 2'], row['Nome da Pessoa 1'])\n",
    "    #incompats.append(a_tuple)\n",
    "    #incompats.append(inv_tuple)\n",
    "    a_set = {row['Nome da Pessoa 1'], row['Nome da Pessoa 2']}\n",
    "    incompats.append(a_set)\n",
    "    "
   ]
  },
  {
   "cell_type": "code",
   "execution_count": 67,
   "metadata": {},
   "outputs": [
    {
     "data": {
      "text/plain": [
       "{'LUIS PEDRO AZEVEDO ALMEIDA MACHADO', 'MÓNICA HORTA DE FIGUEIREDO'}"
      ]
     },
     "execution_count": 67,
     "metadata": {},
     "output_type": "execute_result"
    }
   ],
   "source": [
    "incompats.pop()"
   ]
  },
  {
   "cell_type": "code",
   "execution_count": 65,
   "metadata": {},
   "outputs": [],
   "source": [
    "def find_incompatibilities(name_set, exclusion_list):\n",
    "    #count = 0\n",
    "    invalids = set()\n",
    "    for i in range(len(incompats)):\n",
    "        if name_set.issubset(incompats[i]):\n",
    "            #count += 1\n",
    "            invalids = invalids.union(incompats[i])\n",
    "    #print (count)\n",
    "    return invalids"
   ]
  },
  {
   "cell_type": "code",
   "execution_count": 68,
   "metadata": {},
   "outputs": [
    {
     "data": {
      "text/plain": [
       "{'ANA FILIPA GONÇALVES SIMÕES',\n",
       " 'LUIS PEDRO AZEVEDO ALMEIDA MACHADO',\n",
       " 'RICARDO MIGUEL REIS DUARTE'}"
      ]
     },
     "execution_count": 68,
     "metadata": {},
     "output_type": "execute_result"
    }
   ],
   "source": [
    "search = {'LUIS PEDRO AZEVEDO ALMEIDA MACHADO'}\n",
    "find_incompatibilities(search, incompats)"
   ]
  },
  {
   "cell_type": "code",
   "execution_count": 86,
   "metadata": {},
   "outputs": [],
   "source": [
    "def find_possibilities(name_set, receivers_set, exclusion_list):\n",
    "    return list(receivers_set.difference(find_incompatibilities(name_set, exclusion_list)))\n"
   ]
  },
  {
   "cell_type": "code",
   "execution_count": null,
   "metadata": {},
   "outputs": [],
   "source": [
    "receiver = people.copy()\n",
    "find_possibilities(search, set(receiver), incompats)"
   ]
  },
  {
   "cell_type": "code",
   "execution_count": 97,
   "metadata": {},
   "outputs": [],
   "source": [
    "people = ['Ana', 'João', 'Pedro', 'Joana', 'Manuel']\n",
    "givers = people.copy()\n",
    "receivers = people.copy()\n",
    "incompats = [{'Ana', 'João'}, {'Manuel, Ana'}]"
   ]
  },
  {
   "cell_type": "code",
   "execution_count": 94,
   "metadata": {},
   "outputs": [
    {
     "name": "stdout",
     "output_type": "stream",
     "text": [
      "{'Ana'}\n",
      "{'Ana', 'Pedro', 'Manuel', 'Joana', 'João'}\n",
      "['Manuel', 'Joana', 'Pedro']\n"
     ]
    }
   ],
   "source": [
    "print({givers[0]})\n",
    "print(set(receivers))\n",
    "\n",
    "print(find_possibilities({givers[0]}, set(receivers), incompats))"
   ]
  },
  {
   "cell_type": "code",
   "execution_count": 98,
   "metadata": {},
   "outputs": [
    {
     "name": "stdout",
     "output_type": "stream",
     "text": [
      "Ana\n",
      "3\n",
      "['Manuel', 'Joana', 'Pedro']\n",
      "Ana -> Manuel\n",
      "João\n",
      "2\n",
      "['Joana', 'Pedro']\n",
      "João -> Joana\n",
      "Pedro\n",
      "3\n",
      "['João', 'Ana', 'Pedro']\n",
      "Pedro -> João\n",
      "Joana\n",
      "2\n",
      "['Ana', 'Pedro']\n",
      "Joana -> Pedro\n",
      "Manuel\n",
      "1\n",
      "['Ana']\n",
      "Manuel -> Ana\n"
     ]
    },
    {
     "ename": "IndexError",
     "evalue": "list index out of range",
     "output_type": "error",
     "traceback": [
      "\u001b[1;31m---------------------------------------------------------------------------\u001b[0m",
      "\u001b[1;31mIndexError\u001b[0m                                Traceback (most recent call last)",
      "Cell \u001b[1;32mIn[98], line 2\u001b[0m\n\u001b[0;32m      1\u001b[0m \u001b[39mfor\u001b[39;00m p \u001b[39min\u001b[39;00m people :\n\u001b[1;32m----> 2\u001b[0m     all_possible_rec \u001b[39m=\u001b[39m find_possibilities({givers[\u001b[39m0\u001b[39;49m]}, \u001b[39mset\u001b[39m(receivers), incompats)\n\u001b[0;32m      3\u001b[0m     \u001b[39mprint\u001b[39m(givers[\u001b[39m0\u001b[39m])\n\u001b[0;32m      4\u001b[0m     \u001b[39mprint\u001b[39m(\u001b[39mlen\u001b[39m(all_possible_rec))\n",
      "\u001b[1;31mIndexError\u001b[0m: list index out of range"
     ]
    }
   ],
   "source": [
    "\n",
    "for p in people :\n",
    "    all_possible_rec = find_possibilities({givers[0]}, set(receivers), incompats)\n",
    "    print(givers[0])\n",
    "    print(len(all_possible_rec))\n",
    "    print(all_possible_rec)\n",
    "    match = all_possible_rec[randint(0, len(all_possible_rec)-1)]\n",
    "    print(f'{givers[0]} -> {match}')\n",
    "    givers.pop(0)\n",
    "    receivers.pop(receivers.index(match))\n"
   ]
  }
 ],
 "metadata": {
  "kernelspec": {
   "display_name": "Python 3",
   "language": "python",
   "name": "python3"
  },
  "language_info": {
   "codemirror_mode": {
    "name": "ipython",
    "version": 3
   },
   "file_extension": ".py",
   "mimetype": "text/x-python",
   "name": "python",
   "nbconvert_exporter": "python",
   "pygments_lexer": "ipython3",
   "version": "3.10.9"
  },
  "orig_nbformat": 4,
  "vscode": {
   "interpreter": {
    "hash": "5a54614e762e5e8920865acec91322f76af9ca40d9a85396a0a2330b042b2883"
   }
  }
 },
 "nbformat": 4,
 "nbformat_minor": 2
}
