{
 "cells": [
  {
   "cell_type": "code",
   "execution_count": 130,
   "metadata": {},
   "outputs": [],
   "source": [
    "#Import Libraries\n",
    "import pandas as pd\n",
    "import openpyxl\n",
    "from random import randint, shuffle"
   ]
  },
  {
   "cell_type": "code",
   "execution_count": 131,
   "metadata": {},
   "outputs": [],
   "source": [
    "#Name of the Excel file and sheets to be used\n",
    "file_name = r'SecretSantaDataSet.xlsx'\n",
    "people_sheet = r'Pessoas'\n",
    "incompatibles_sheet = r'Incompatibilidades'"
   ]
  },
  {
   "cell_type": "code",
   "execution_count": 132,
   "metadata": {},
   "outputs": [],
   "source": [
    "#Import participants from excel and put them on a list\n",
    "people = pd.read_excel(file_name, engine='openpyxl', sheet_name=people_sheet) #abre a sheet 'Pessoas'\n",
    "people = people.iloc[:, 0] #lê a primeira coluna que é a que tem o nome das pessoas"
   ]
  },
  {
   "cell_type": "code",
   "execution_count": 133,
   "metadata": {},
   "outputs": [],
   "source": [
    "#Import incompatibilities between participants and put them on a list of sets\n",
    "incompatibilities = pd.read_excel(file_name, engine='openpyxl', sheet_name=incompatibles_sheet) # abre a sheet 'Incompatibilidades'\n",
    "incompats = [] #cria uma lista vazia onde vai colocar todos os pares de incompatibilidades\n",
    "for index, row in incompatibilities.iterrows(): #para cada linha da sheet existem nomes nas colunas A e B, o método iterrows (acho que vi online, mas não me lembro) itera sobre o dataframe  \n",
    "    a_set = {row[0], row[1]} #cada linha do dataframe torna-se um set de 2 nomes, o da coluna A e o da coluna B, o set não é ordenado - as pessoas vão ser incompatíveis nos dois sentidos \n",
    "    incompats.append(a_set) #adiciona cada set de 2 pessoas incompatíveis à lista "
   ]
  },
  {
   "cell_type": "code",
   "execution_count": 134,
   "metadata": {},
   "outputs": [],
   "source": [
    "#FUNCTION FIND_INCOMPATIBILITIES\n",
    "#Returns a set of people that a \"name_set\" cannot match with, based on the incompats list\n",
    "#Returns  subset of the incompats list for a person\n",
    "def find_incompatibilities(name_set, exclusion_list): \n",
    "    incompatibles = set() #criamos um set vazio (não tem ordem) onde iremos colocar todas as pessoas incompatíveis com a pessoa 'name_set', exemplo {Manel}\n",
    "    for i in range(len(exclusion_list)): #iteramos sobre a lista de sets de incompats = [{Manel, António}, {Maria, Cristina}, {Zé, Teresa}]\n",
    "        if name_set.issubset(exclusion_list[i]): #se o nome da pessoa 'name_set' estiver em algum dos sets da lista de incompats..., se {Manel} é subset de {Manel, António}\n",
    "            incompatibles = incompatibles.union(exclusion_list[i]) #faz a união do set encontrado com o set de incompatíveis da pessoa, neste caso incompatibles = {Manel, António} (junta a própria pessoa, mas nunca repete pessoas porque é um set), se não encontrar nada incompatibles = {}\n",
    "    return incompatibles"
   ]
  },
  {
   "cell_type": "code",
   "execution_count": 135,
   "metadata": {},
   "outputs": [],
   "source": [
    "#FUNCTION FIND_POSSIBILITIES\n",
    "#Returns the list of possible matches for a person, excluding themselves\n",
    "#Returns the list of the difference between all participants and the incompatibilities for a person\n",
    "def find_possibilities(name_set, receivers_set, exclusion_list): \n",
    "    possibilities_set = set() #criamos um set vazio onde iremos colocar todas as pessoas compatíveis com a pessoa 'name_set'\n",
    "    possibilities_set = receivers_set.difference(name_set) #esse set = set de todos os participantes que ainda não foram escolhidos como recebedores de outra pessoa - a própria pessoa 'name_set'; este passo tem de estar aqui por causa das pessoas que não têm incompatibilidades\n",
    "    possibilities_set = possibilities_set.difference(find_incompatibilities(name_set, exclusion_list)) #esse set = esse set - incomaptibilidades da pessoa 'name_set'\n",
    "    return list(possibilities_set)"
   ]
  },
  {
   "cell_type": "code",
   "execution_count": 140,
   "metadata": {},
   "outputs": [
    {
     "name": "stdout",
     "output_type": "stream",
     "text": [
      "The participants list has null values.\n"
     ]
    }
   ],
   "source": [
    "#Program\n",
    "#Initial validations\n",
    "end_program = False #variável de controlo\n",
    "max_tries = 1000 #Número máximo de vezes que podemos tentar sortear até encontrarmos uma combinação válida\n",
    "tries = 0 #contador de tentativas\n",
    "if len(people) <2:\n",
    "    print(\"Secret Santa needs at least 2 participants.\")\n",
    "    end_program = True\n",
    "\n",
    "elif people.isnull().any:\n",
    "    print(\"The participants list has null values.\")\n",
    "    end_Program = True\n",
    "\n",
    "elif len(people) != len(set(people)):\n",
    "    duplicates = [x for x in people if people.count(x)>1]\n",
    "    print(f'There can\\'t be participants with exactly the same name.\\nThese are repeated: {set(duplicates)}')\n",
    "    end_Program = True\n",
    "\n",
    "#SortingHat\n",
    "else: #Aqui já tudo foi validado, começa realmente o programa\n",
    "    people = list(people) #converte dataframe em lista\n",
    "    while tries < max_tries:\n",
    "        shuffle(people) #reordenamento aleatório da lista de participantes, que faz com que a iteração da lista abaixo seja por uma ordem diferente a cada tentativa\n",
    "        givers = people.copy() #criamos uma lista de dadores que é uma cópia dos participantes; não pode ser a própria lista de participantes porque vamos estar a alterar a lista de dadores e queremos que lhe seja feito reset a cada tentativa\n",
    "        receivers = people.copy() #criamos uma lista de recebedores que é uma cópia dos participantes; não pode ser a própria lista de participantes porque vamos estar a alterar a lista de recebedores e queremos que lhe seja feito reset a cada tentativa\n",
    "        matches = [] #lista com quem dá prenda a quem\n",
    "        for p in people : #iteramos a lista de participantes, não a lista de dadores porque a lista de dadores é alterada a cada iteração\n",
    "            #Gets a list of all possible receivers for a participant p\n",
    "            all_possible_rec = find_possibilities({givers[0]}, set(receivers), incompats) #escrevemos lista de todos os nomes da lista de recebedores que podem receber prenda do dador que está na primeira posição da lista de dadores\n",
    "            if len(all_possible_rec) == 0 : #se não encontra possibilidades, sai do ciclo for e volta a tentar o processo todo de novo (nova iteração no ciclo while)\n",
    "                break\n",
    "            #Selects a random match from all possible receivers\n",
    "            match = all_possible_rec[randint(0, len(all_possible_rec)-1)] #atribui ao dador um recebedor aleatório do set que tinha determinado antes\n",
    "            matches.append([givers[0], match]) #adiciona uma lista [dador, recebedor] à lista inteira de quem dá a prenda a quem\n",
    "            givers.pop(0) #altera a lista de dadores, removendo o primeiro (o givers[0]), assim a lista é cortada à esquerda\n",
    "            receivers.pop(receivers.index(match)) #açtera a lista de recebedores disponíveis removendo o que foi selecionado\n",
    "        tries += 1 #depois de percorrer o ciclo todo para todas as pessoas da lista de participantes ou de ter saído porque não havia recebedores disponíveis para um dos participantes, aumenta o contador de tentativas em 1\n",
    "        if len(matches) == len(people): #nova condição de saída do ciclo while: se todos os participantes têm alguém a quem dar prenda\n",
    "            break"
   ]
  },
  {
   "cell_type": "code",
   "execution_count": 139,
   "metadata": {},
   "outputs": [],
   "source": [
    "#Converts results list into data frame and prints results\n",
    "df_matches = []\n",
    "if not end_program and tries != 0: #coisas que vamos fazer apenas se o programa correu e não falhou nas condições iniciais (entrou no else do Sorting hat)\n",
    "        print(f'{tries} tries; {len(matches)} out of {len(people)} matches') #Número de tentativas; número de pessoas que conseguem dar prenda a outra e número total de participantes\n",
    "\n",
    "        if tries == max_tries and len(matches) != len(people): # se nem todas as pessoas conseguiram dar prenda a outra, o programa termina\n",
    "            print(f'Maybe try again next year with more participants and less restrictions.')\n",
    "            end_Program = True\n",
    "\n",
    "        else: #caso contrário, cria o dataframe com coluna de dadores e coluna de recebedores\n",
    "            df_matches = pd.DataFrame(matches, columns=['Gift Giver', 'Gift Receiver'])\n",
    "            print(df_matches)"
   ]
  },
  {
   "cell_type": "code",
   "execution_count": 138,
   "metadata": {},
   "outputs": [],
   "source": [
    "#Writes results to a new sheet on Excel File\n",
    "wb = openpyxl.load_workbook(file_name)\n",
    "if 'Resultados' in wb.sheetnames: #qualquer que seja o cenário procura sempre a sheet 'Resultados' e apaga-a se existir\n",
    "    wb.remove(wb['Resultados'])\n",
    "\n",
    "if not end_program and tries != 0 and len(df_matches) != 0: #coisas que vamos fazer apenas se o programa correu e não falhou nas condições iniciais (entrou no else do Sorting hat)\n",
    "\n",
    "        ws_new = wb.create_sheet('Resultados') #cria uma nova sheet de resultados no excel\n",
    "        ws_new.append(list(df_matches.columns)) #diz que essa sheet vai ter duas colunas com os nomes dos headers do dataframe\n",
    "        for i in range(len(df_matches)): #para cada linha do dataframe, escreve no excel\n",
    "            ws_new.append(list(df_matches.loc[i, :]))\n",
    "\n",
    "        ws_new.column_dimensions['A'].width = 55 #largura da coluna permite todos os nomes que temos no exemplo\n",
    "        ws_new.column_dimensions['B'].width = 55\n",
    "\n",
    "wb.save(file_name)\n",
    "wb.close()\n"
   ]
  }
 ],
 "metadata": {
  "kernelspec": {
   "display_name": "Python 3",
   "language": "python",
   "name": "python3"
  },
  "language_info": {
   "codemirror_mode": {
    "name": "ipython",
    "version": 3
   },
   "file_extension": ".py",
   "mimetype": "text/x-python",
   "name": "python",
   "nbconvert_exporter": "python",
   "pygments_lexer": "ipython3",
   "version": "3.10.10"
  },
  "orig_nbformat": 4,
  "vscode": {
   "interpreter": {
    "hash": "5a54614e762e5e8920865acec91322f76af9ca40d9a85396a0a2330b042b2883"
   }
  }
 },
 "nbformat": 4,
 "nbformat_minor": 2
}
