{
 "cells": [
  {
   "cell_type": "code",
   "execution_count": 8,
   "metadata": {},
   "outputs": [],
   "source": [
    "#Import Libraries\n",
    "import pandas as pd\n",
    "import numpy as np\n",
    "from random import randint, choice, shuffle"
   ]
  },
  {
   "cell_type": "code",
   "execution_count": 144,
   "metadata": {},
   "outputs": [],
   "source": [
    "#Import participants from excel and put them on a list\n",
    "people = pd.read_excel(\"SecretSantaDataSet.xlsx\", engine='openpyxl', sheet_name='Pessoas')\n",
    "people = list(people.loc[:, 'Nome da Pessoa'])\n"
   ]
  },
  {
   "cell_type": "code",
   "execution_count": 145,
   "metadata": {},
   "outputs": [],
   "source": [
    "#Import incompatibilities between participants and put them on a list of sets\n",
    "incompatibilities = pd.read_excel(\"SecretSantaDataSet.xlsx\", engine='openpyxl', sheet_name='Incompatibilidades')\n",
    "incompats = []\n",
    "for index, row in incompatibilities.iterrows():\n",
    "    a_tuple = (row['Nome da Pessoa 1'], row['Nome da Pessoa 2'])\n",
    "    #inv_tuple = (row['Nome da Pessoa 2'], row['Nome da Pessoa 1'])\n",
    "    #incompats.append(a_tuple)\n",
    "    #incompats.append(inv_tuple)\n",
    "    a_set = {row['Nome da Pessoa 1'], row['Nome da Pessoa 2']}\n",
    "    incompats.append(a_set)\n",
    "    "
   ]
  },
  {
   "cell_type": "code",
   "execution_count": 60,
   "metadata": {},
   "outputs": [],
   "source": [
    "#different instances from the excel file\n",
    "#TEST\n",
    "people = ['Ana', 'João', 'Pedro', 'Joana', 'Manuel']\n",
    "incompats = [{'Ana', 'João'}, {'Manuel', 'Ana'}, {'Joana', 'Manuel'}]"
   ]
  },
  {
   "cell_type": "code",
   "execution_count": 50,
   "metadata": {},
   "outputs": [],
   "source": [
    "#Returns a set of people that a \"name_set\" cannot match with, based on the incompats list\n",
    "#Returns the subset of the incompats for a person\n",
    "def find_incompatibilities(name_set, exclusion_list):\n",
    "    #count = 0\n",
    "    invalids = set()\n",
    "    #print(len(exclusion_list))\n",
    "    for i in range(len(exclusion_list)):\n",
    "        #print(f'inside for loop {i}')\n",
    "        #print(exclusion_list[i])\n",
    "        if name_set.issubset(exclusion_list[i]):\n",
    "            #count += 1\n",
    "            invalids = invalids.union(exclusion_list[i])\n",
    "    #print (count)\n",
    "    return invalids"
   ]
  },
  {
   "cell_type": "code",
   "execution_count": 51,
   "metadata": {},
   "outputs": [
    {
     "data": {
      "text/plain": [
       "{'Ana', 'João', 'Manuel'}"
      ]
     },
     "execution_count": 51,
     "metadata": {},
     "output_type": "execute_result"
    }
   ],
   "source": [
    "#teste\n",
    "find_incompatibilities({'Ana'}, incompats)"
   ]
  },
  {
   "cell_type": "code",
   "execution_count": 115,
   "metadata": {},
   "outputs": [],
   "source": [
    "#Returns the list of possible matches for a person, excluding themselves\n",
    "#Returns the list of the difference between all participants and the incompatibilities for a person\n",
    "def find_possibilities(name_set, receivers_set, exclusion_list):\n",
    "    possibilities_set = set()\n",
    "    possibilities_set = receivers_set.difference(name_set)\n",
    "    possibilities_set = possibilities_set.difference(find_incompatibilities(name_set, exclusion_list))\n",
    "    return list(possibilities_set)\n"
   ]
  },
  {
   "cell_type": "code",
   "execution_count": 117,
   "metadata": {},
   "outputs": [],
   "source": [
    "#Splits the participant list in two equal lists: givers and receivers\n",
    "#resets lists\n",
    "givers = people.copy()\n",
    "receivers = people.copy()\n",
    "matches = []\n"
   ]
  },
  {
   "cell_type": "code",
   "execution_count": 121,
   "metadata": {},
   "outputs": [
    {
     "data": {
      "text/plain": [
       "['Pedro', 'João']"
      ]
     },
     "execution_count": 121,
     "metadata": {},
     "output_type": "execute_result"
    }
   ],
   "source": [
    "find_possibilities({'Manuel'}, set(receivers), incompats)"
   ]
  },
  {
   "cell_type": "code",
   "execution_count": null,
   "metadata": {},
   "outputs": [],
   "source": [
    "max_tries = 2\n",
    "tries = 0\n",
    "while tries < max_tries:\n",
    "    shuffle(people)\n",
    "    givers = people.copy()\n",
    "    receivers = people.copy()\n",
    "    matches = []\n",
    "    for p in people :\n",
    "        all_possible_rec = find_possibilities({givers[0]}, set(receivers), incompats)\n",
    "        #print(f'Giver: {givers[0]}')\n",
    "        #print(f'#possibleMatches: {len(all_possible_rec)}')\n",
    "        #print(f'possibleMatches: {all_possible_rec}')\n",
    "        if len(all_possible_rec) == 0 :\n",
    "            break\n",
    "        #Selects a match from all possible receivers\n",
    "        match = all_possible_rec[randint(0, len(all_possible_rec)-1)]\n",
    "        #print(f'Match: {givers[0]} -> {match}')\n",
    "        matches.append([givers[0], match])\n",
    "        givers.pop(0)\n",
    "        #print(f'new list of givers: {givers}')\n",
    "        receivers.pop(receivers.index(match))\n",
    "        #print(f'New list of receivers: {receivers}')\n",
    "        #print('\\n')\n",
    "    tries += 1\n",
    "    #print(tries)\n",
    "    if len(matches) == len(people):\n",
    "        break\n",
    "\n",
    "print(f'{tries} tries; {len(matches)} out of {len(people)} matches: {matches}')\n",
    "\n",
    "if tries == max_tries and len(matches) != len(people):\n",
    "    print(f'Maybe try again next year with more participants and less restrictions.')\n",
    "\n"
   ]
  }
 ],
 "metadata": {
  "kernelspec": {
   "display_name": "Python 3",
   "language": "python",
   "name": "python3"
  },
  "language_info": {
   "codemirror_mode": {
    "name": "ipython",
    "version": 3
   },
   "file_extension": ".py",
   "mimetype": "text/x-python",
   "name": "python",
   "nbconvert_exporter": "python",
   "pygments_lexer": "ipython3",
   "version": "3.10.10"
  },
  "orig_nbformat": 4,
  "vscode": {
   "interpreter": {
    "hash": "5a54614e762e5e8920865acec91322f76af9ca40d9a85396a0a2330b042b2883"
   }
  }
 },
 "nbformat": 4,
 "nbformat_minor": 2
}
